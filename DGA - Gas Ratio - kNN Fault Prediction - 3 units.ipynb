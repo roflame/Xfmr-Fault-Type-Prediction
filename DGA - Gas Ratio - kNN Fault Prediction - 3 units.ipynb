{
 "cells": [
  {
   "cell_type": "markdown",
   "id": "ab06e9b7",
   "metadata": {},
   "source": [
    "# This k-Nearest Neighbors model predicts the type of fault using gas ratios:\n",
    "## Class 0: Partial Discharge\n",
    "## Class 1: Low Energy Discharge\n",
    "## Class 2: High Energy Discharge\n",
    "## Class 3: Thermal Fault - t < 300C\n",
    "## Class 4: Thermal Fault - 300C < t < 700C\n",
    "## Class 5: Thermal Fault - t > 700C\n",
    "## Class 6: No Fault / Insufficient Data\n",
    "\n",
    "### The data was preprocessed on Excel and all labels were added there. This is due to convenience.\n",
    "### Required format of dataset is in the repo."
   ]
  },
  {
   "cell_type": "code",
   "execution_count": null,
   "id": "98327477",
   "metadata": {},
   "outputs": [],
   "source": [
    "import numpy as np\n",
    "import pandas as pd\n",
    "import seaborn as sns\n",
    "import matplotlib\n",
    "import matplotlib.pyplot as plt\n",
    "from matplotlib.colors import ListedColormap\n",
    "from sklearn import neighbors, datasets\n",
    "from sklearn.ensemble import RandomForestClassifier\n",
    "from sklearn.metrics import accuracy_score, confusion_matrix, classification_report"
   ]
  },
  {
   "cell_type": "code",
   "execution_count": null,
   "id": "d00d263c",
   "metadata": {},
   "outputs": [],
   "source": [
    "#Import all data files. The ratios are calculated from the raw data and stored in csv files.\n",
    "ratios = pd.read_csv('')\n",
    "classes = pd.read_csv('')\n",
    "test = pd.read_csv('')\n",
    "test_classes = pd.read_csv('')\n",
    "\n",
    "ratios = ratios.iloc[:-1,:]\n",
    "classes = classes.iloc[:-1,:]\n",
    "test = test.iloc[:-1,:]\n",
    "test_classes = test_classes.iloc[:-1,:]\n",
    "\n",
    "ratios['ratio1'] = pd.to_numeric(ratios['ratio1'],errors='coerce')\n",
    "ratios['ratio2'] = pd.to_numeric(ratios['ratio2'],errors='coerce')\n",
    "ratios['ratio3'] = pd.to_numeric(ratios['ratio3'],errors='coerce')\n",
    "classes['Class'] = pd.to_numeric(classes['Class'],errors='coerce')\n",
    "test['ratio1'] = pd.to_numeric(test['ratio1'],errors='coerce')\n",
    "test['ratio2'] = pd.to_numeric(test['ratio2'],errors='coerce')\n",
    "test['ratio3'] = pd.to_numeric(test['ratio3'],errors='coerce')\n",
    "test_classes['Class'] = pd.to_numeric(test_classes['Class'],errors='coerce')\n",
    "\n",
    "ratios = ratios.dropna()\n",
    "classes = classes.dropna()\n",
    "test = test.dropna()\n",
    "test_classes = test_classes.dropna()\n",
    "\n",
    "ratios.isnull().any()\n",
    "classes.isnull().any()\n",
    "test.isnull().any()\n",
    "test_classes.isnull().any()\n",
    "\n",
    "#Ratios are determined by the following formulae:\n",
    "#data['ratio1'] = data['c2h2']/data['c2h4']\n",
    "#data['ratio2'] = data['ch4']/data['h2']\n",
    "#data['ratio3'] = data['c2h4']/data['c2h6']\n",
    "\n",
    "#Convert df to array.\n",
    "array_ratios = ratios.to_numpy()\n",
    "#array_ratios\n",
    "array_classes = classes.to_numpy()\n",
    "#array_classes\n",
    "array_test = test.to_numpy()\n",
    "#array_test\n",
    "array_test_classes = test_classes.to_numpy()\n",
    "#array_test_classes"
   ]
  },
  {
   "cell_type": "code",
   "execution_count": null,
   "id": "2fb33df2",
   "metadata": {},
   "outputs": [],
   "source": [
    "# k-NN model training and prediction:\n",
    "X_train, y_train = array_ratios, array_classes\n",
    "X_test, y_test = array_test, array_test_classes\n",
    "knn = neighbors.KNeighborsClassifier(n_neighbors=7)\n",
    "knn.fit(X_train, y_train)\n",
    "y_pred = knn.predict(X_test)\n",
    "\n",
    "# Trial with Random Forest classifier:\n",
    "#clf = RandomForestClassifier(max_depth=2, random_state=0, n_estimators=180)\n",
    "#clf.fit(X_train, y_train)\n",
    "#y_pred = clf.predict(X_test)\n",
    "\n",
    "y_pred"
   ]
  },
  {
   "cell_type": "code",
   "execution_count": null,
   "id": "7a49fe45",
   "metadata": {},
   "outputs": [],
   "source": [
    "from sklearn import metrics\n",
    "print(\"Accuracy:\",metrics.accuracy_score(y_test, y_pred))"
   ]
  },
  {
   "cell_type": "code",
   "execution_count": null,
   "id": "57e86579",
   "metadata": {},
   "outputs": [],
   "source": [
    "print(knn.predict([[0.05, 0.1, 0.1]]))"
   ]
  },
  {
   "cell_type": "code",
   "execution_count": null,
   "id": "49fe7a77",
   "metadata": {},
   "outputs": [],
   "source": [
    "print(knn.predict([[0.1, 2, 5]]))"
   ]
  },
  {
   "cell_type": "code",
   "execution_count": null,
   "id": "bf46c7e8",
   "metadata": {},
   "outputs": [],
   "source": [
    "# View confusion matrix for test data and predictions\n",
    "confusion_matrix(y_test, y_pred)"
   ]
  },
  {
   "cell_type": "code",
   "execution_count": null,
   "id": "dfc7dfe7",
   "metadata": {},
   "outputs": [],
   "source": [
    "# Get and reshape confusion matrix data\n",
    "matrix = confusion_matrix(y_test, y_pred)\n",
    "matrix = matrix.astype('float') / matrix.sum(axis=1)[:, np.newaxis]\n",
    "\n",
    "# Build the plot\n",
    "plt.figure(figsize=(10,7))\n",
    "sns.set(font_scale=1.4)\n",
    "sns.heatmap(matrix, annot=True, annot_kws={'size':10},\n",
    "            cmap=plt.cm.Reds, linewidths=0.2)\n",
    "\n",
    "# Add labels to the plot\n",
    "class_names = ['Class0', 'Class1', 'Class2', 'Class3', 'Class4', 'Class5', 'Class6']\n",
    "tick_marks = np.arange(len(class_names))\n",
    "tick_marks2 = tick_marks + 0.5\n",
    "plt.xticks(tick_marks, class_names, rotation=25)\n",
    "plt.yticks(tick_marks2, class_names, rotation=0)\n",
    "plt.xlabel('Predicted')\n",
    "plt.ylabel('Actual')\n",
    "plt.title('Confusion Matrix for k-NN Model')\n",
    "plt.show()"
   ]
  },
  {
   "cell_type": "code",
   "execution_count": null,
   "id": "d6d4bf33",
   "metadata": {},
   "outputs": [],
   "source": [
    "# View the classification report for test data and predictions\n",
    "print(classification_report(y_test, y_pred))"
   ]
  }
 ],
 "metadata": {
  "kernelspec": {
   "display_name": "Python 3",
   "language": "python",
   "name": "python3"
  },
  "language_info": {
   "codemirror_mode": {
    "name": "ipython",
    "version": 3
   },
   "file_extension": ".py",
   "mimetype": "text/x-python",
   "name": "python",
   "nbconvert_exporter": "python",
   "pygments_lexer": "ipython3",
   "version": "3.8.8"
  }
 },
 "nbformat": 4,
 "nbformat_minor": 5
}
