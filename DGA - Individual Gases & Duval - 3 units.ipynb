{
 "cells": [
  {
   "cell_type": "markdown",
   "id": "d7b53630",
   "metadata": {},
   "source": [
    "# Individual Gases - Anomaly Detection - 3 units\n",
    "\n",
    "### The IsoForest model is 100% acurate because it knows the exact amount of contamination. This is because I am counting the number of outliers and feeding that to the model. However, if counting the outliers is not an option, one can estimate the contamination (0, 0.5] and feed that to the model, but the accuracy will be lower. Bigger the dataset, the better the contamination factor could be, resulting is higher accuracy.\n",
    "\n",
    "### The below code for the individual gases will give you all anomolous points in the dataset and where they lie. Provides the ability to judge when maintenance is needed depending on number of anomolous points. Theoretically, you can run these models and they will be able to detect anomolous datapoints based on the training data.\n",
    "\n",
    "### Required format of dataset is in the repo."
   ]
  },
  {
   "cell_type": "code",
   "execution_count": null,
   "id": "e2f81c6b",
   "metadata": {},
   "outputs": [],
   "source": [
    "import numpy as np\n",
    "import pandas as pd\n",
    "import seaborn as sns\n",
    "from sklearn.ensemble import IsolationForest\n",
    "\n",
    "data = pd.read_csv('')\n",
    "\n",
    "data = data.iloc[:-1,:]\n",
    "\n",
    "data.head()\n",
    "\n",
    "data['ch4'] = pd.to_numeric(data['ch4'],errors='coerce')\n",
    "data['c2h6'] = pd.to_numeric(data['c2h6'],errors='coerce')\n",
    "data['c2h4'] = pd.to_numeric(data['c2h4'],errors='coerce')\n",
    "data['co'] = pd.to_numeric(data['co'],errors='coerce')\n",
    "data['co2'] = pd.to_numeric(data['co2'],errors='coerce')\n",
    "\n",
    "data = data.dropna()\n",
    "\n",
    "data.isnull().any()\n",
    "\n",
    "data.dtypes"
   ]
  },
  {
   "cell_type": "markdown",
   "id": "87efd86b",
   "metadata": {},
   "source": [
    "# H2"
   ]
  },
  {
   "cell_type": "code",
   "execution_count": null,
   "id": "f0a7c9ec",
   "metadata": {},
   "outputs": [],
   "source": [
    "sns.boxplot(data.h2)"
   ]
  },
  {
   "cell_type": "code",
   "execution_count": null,
   "id": "981f92b6",
   "metadata": {},
   "outputs": [],
   "source": [
    "random_state = np.random.RandomState(42)\n",
    "outliers_counter = len(data[data['h2'] >= 100])\n",
    "contam = outliers_counter / len(data['h2'])\n",
    "print(outliers_counter)\n",
    "print(contam)\n",
    "\n",
    "model=IsolationForest(max_samples='auto',contamination=contam, random_state=random_state)\n",
    "\n",
    "model.fit(data[['h2']])\n",
    "\n",
    "print(model.get_params())\n",
    "\n",
    "data['scores'] = model.decision_function(data[['h2']])\n",
    "\n",
    "data['anomaly_score'] = model.predict(data[['h2']])\n",
    "\n",
    "data[data['anomaly_score']==-1].head(3606)\n",
    "\n",
    "outliers_counter = len(data[data['h2'] >= 100])\n",
    "outliers_counter\n",
    "if outliers_counter >= 100:\n",
    "    print(\"Maintenance needed\")\n",
    "\n",
    "accuracy = 100*list(data['anomaly_score']).count(-1)/(outliers_counter)\n",
    "print(\"Accuracy of the model:\", accuracy)"
   ]
  },
  {
   "cell_type": "markdown",
   "id": "bd21c5aa",
   "metadata": {},
   "source": [
    "# C2H2"
   ]
  },
  {
   "cell_type": "code",
   "execution_count": null,
   "id": "2f4d9548",
   "metadata": {},
   "outputs": [],
   "source": [
    "sns.boxplot(data.c2h2)"
   ]
  },
  {
   "cell_type": "code",
   "execution_count": null,
   "id": "909edc52",
   "metadata": {},
   "outputs": [],
   "source": [
    "random_state = np.random.RandomState(42)\n",
    "outliers_counter = len(data[data['c2h2'] >= 3])\n",
    "contam = outliers_counter / len(data['c2h2'])\n",
    "print(contam)\n",
    "\n",
    "model=IsolationForest(max_samples='auto',contamination=contam, random_state=random_state)\n",
    "\n",
    "model.fit(data[['c2h2']])\n",
    "\n",
    "print(model.get_params())\n",
    "\n",
    "data['scores'] = model.decision_function(data[['c2h2']])\n",
    "\n",
    "data['anomaly_score'] = model.predict(data[['c2h2']])\n",
    "\n",
    "data[data['anomaly_score']==-1].head(3606)\n",
    "\n",
    "outliers_counter = len(data[data['c2h2'] >= 3])\n",
    "outliers_counter\n",
    "if outliers_counter >= 100:\n",
    "    print(\"Maintenance needed\")\n",
    "\n",
    "accuracy = 100*list(data['anomaly_score']).count(-1)/(outliers_counter)\n",
    "print(\"Accuracy of the model:\", accuracy)"
   ]
  },
  {
   "cell_type": "markdown",
   "id": "7e5a1fde",
   "metadata": {},
   "source": [
    "# C2H4"
   ]
  },
  {
   "cell_type": "code",
   "execution_count": null,
   "id": "806452cd",
   "metadata": {},
   "outputs": [],
   "source": [
    "sns.boxplot(data.c2h4)"
   ]
  },
  {
   "cell_type": "code",
   "execution_count": null,
   "id": "a20d6b2c",
   "metadata": {},
   "outputs": [],
   "source": [
    "random_state = np.random.RandomState(42)\n",
    "outliers_counter = len(data[data['c2h4'] >= 50])\n",
    "contam = outliers_counter / len(data['c2h4'])\n",
    "print(contam)\n",
    "\n",
    "model=IsolationForest(max_samples='auto',contamination=contam, random_state=random_state)\n",
    "\n",
    "model.fit(data[['c2h4']])\n",
    "\n",
    "print(model.get_params())\n",
    "\n",
    "data['scores'] = model.decision_function(data[['c2h4']])\n",
    "\n",
    "data['anomaly_score'] = model.predict(data[['c2h4']])\n",
    "\n",
    "data[data['anomaly_score']==-1].head(3606)\n",
    "\n",
    "outliers_counter = len(data[data['c2h4'] >= 50])\n",
    "outliers_counter\n",
    "if outliers_counter >= 100:\n",
    "    print(\"Maintenance needed\")\n",
    "\n",
    "accuracy = 100*list(data['anomaly_score']).count(-1)/(outliers_counter)\n",
    "print(\"Accuracy of the model:\", accuracy)"
   ]
  },
  {
   "cell_type": "markdown",
   "id": "4f1dac58",
   "metadata": {},
   "source": [
    "# C2H6"
   ]
  },
  {
   "cell_type": "code",
   "execution_count": null,
   "id": "baea51c5",
   "metadata": {},
   "outputs": [],
   "source": [
    "sns.boxplot(data.c2h6)"
   ]
  },
  {
   "cell_type": "code",
   "execution_count": null,
   "id": "c3180c3d",
   "metadata": {},
   "outputs": [],
   "source": [
    "random_state = np.random.RandomState(42)\n",
    "outliers_counter = len(data[data['c2h6'] >= 65])\n",
    "contam = outliers_counter / len(data['c2h6'])\n",
    "print(contam)\n",
    "\n",
    "model=IsolationForest(max_samples='auto',contamination=contam, random_state=random_state)\n",
    "\n",
    "model.fit(data[['c2h6']])\n",
    "\n",
    "#print(model.get_params())\n",
    "\n",
    "data['scores'] = model.decision_function(data[['c2h6']])\n",
    "\n",
    "data['anomaly_score'] = model.predict(data[['c2h6']])\n",
    "\n",
    "data[data['anomaly_score']==-1].head(3606)\n",
    "\n",
    "outliers_counter = len(data[data['c2h6'] >= 65])\n",
    "outliers_counter\n",
    "if outliers_counter >= 100:\n",
    "    print(\"Maintenance needed\")\n",
    "\n",
    "accuracy = 100*list(data['anomaly_score']).count(-1)/(outliers_counter)\n",
    "print(\"Accuracy of the model:\", accuracy)"
   ]
  },
  {
   "cell_type": "code",
   "execution_count": null,
   "id": "b4540d59",
   "metadata": {},
   "outputs": [],
   "source": [
    "data[data['anomaly_score']==-1].head(3606)"
   ]
  },
  {
   "cell_type": "markdown",
   "id": "5bce5a79",
   "metadata": {},
   "source": [
    "# CH4"
   ]
  },
  {
   "cell_type": "code",
   "execution_count": null,
   "id": "729b2e0a",
   "metadata": {},
   "outputs": [],
   "source": [
    "sns.boxplot(data.ch4)"
   ]
  },
  {
   "cell_type": "code",
   "execution_count": null,
   "id": "2e79b034",
   "metadata": {},
   "outputs": [],
   "source": [
    "random_state = np.random.RandomState(42)\n",
    "outliers_counter = len(data[data['ch4'] >= 120])\n",
    "contam = outliers_counter / len(data['ch4'])\n",
    "print(contam)\n",
    "\n",
    "model=IsolationForest(max_samples='auto',contamination=contam, random_state=random_state)\n",
    "\n",
    "model.fit(data[['ch4']])\n",
    "\n",
    "#print(model.get_params())\n",
    "\n",
    "data['scores'] = model.decision_function(data[['ch4']])\n",
    "\n",
    "data['anomaly_score'] = model.predict(data[['ch4']])\n",
    "\n",
    "data[data['anomaly_score']==-1].head(3606)\n",
    "\n",
    "outliers_counter = len(data[data['ch4'] >= 120])\n",
    "outliers_counter\n",
    "if outliers_counter >= 100:\n",
    "    print(\"Maintenance needed\")\n",
    "\n",
    "accuracy = 100*list(data['anomaly_score']).count(-1)/(outliers_counter)\n",
    "print(\"Accuracy of the model:\", accuracy)"
   ]
  },
  {
   "cell_type": "code",
   "execution_count": null,
   "id": "e0e45fce",
   "metadata": {},
   "outputs": [],
   "source": [
    "data[data['anomaly_score']==-1].head(3606)"
   ]
  },
  {
   "cell_type": "markdown",
   "id": "d316baca",
   "metadata": {},
   "source": [
    "# CO"
   ]
  },
  {
   "cell_type": "code",
   "execution_count": null,
   "id": "80a3d884",
   "metadata": {},
   "outputs": [],
   "source": [
    "sns.boxplot(data.co)"
   ]
  },
  {
   "cell_type": "code",
   "execution_count": null,
   "id": "2928a6e5",
   "metadata": {},
   "outputs": [],
   "source": [
    "random_state = np.random.RandomState(42)\n",
    "outliers_counter = len(data[data['co'] >= 985])\n",
    "contam = outliers_counter / len(data['co'])\n",
    "print(contam)\n",
    "\n",
    "model=IsolationForest(max_samples='auto',contamination=contam, random_state=random_state)\n",
    "\n",
    "model.fit(data[['co']])\n",
    "\n",
    "#print(model.get_params())\n",
    "\n",
    "data['scores'] = model.decision_function(data[['co']])\n",
    "\n",
    "data['anomaly_score'] = model.predict(data[['co']])\n",
    "\n",
    "data[data['anomaly_score']==-1].head(3606)\n",
    "\n",
    "outliers_counter = len(data[data['co'] >= 985])\n",
    "outliers_counter\n",
    "if outliers_counter >= 100:\n",
    "    print(\"Maintenance needed\")\n",
    "\n",
    "accuracy = 100*list(data['anomaly_score']).count(-1)/(outliers_counter)\n",
    "print(\"Accuracy of the model:\", accuracy)"
   ]
  },
  {
   "cell_type": "code",
   "execution_count": null,
   "id": "fa211aa7",
   "metadata": {},
   "outputs": [],
   "source": [
    "data[data['anomaly_score']==-1].head(3606)"
   ]
  },
  {
   "cell_type": "markdown",
   "id": "b0bbb06f",
   "metadata": {},
   "source": [
    "# CO2"
   ]
  },
  {
   "cell_type": "code",
   "execution_count": null,
   "id": "37464fe4",
   "metadata": {},
   "outputs": [],
   "source": [
    "sns.boxplot(data.co2)"
   ]
  },
  {
   "cell_type": "code",
   "execution_count": null,
   "id": "49b47837",
   "metadata": {},
   "outputs": [],
   "source": [
    "random_state = np.random.RandomState(42)\n",
    "outliers_counter = len(data[data['co2'] >= 7000])\n",
    "contam = outliers_counter / len(data['co2'])\n",
    "print(contam)\n",
    "\n",
    "model=IsolationForest(max_samples='auto',contamination=contam, random_state=random_state)\n",
    "\n",
    "model.fit(data[['co2']])\n",
    "\n",
    "#print(model.get_params())\n",
    "\n",
    "data['scores'] = model.decision_function(data[['co2']])\n",
    "\n",
    "data['anomaly_score'] = model.predict(data[['co2']])\n",
    "\n",
    "data[data['anomaly_score']==-1].head(3606)\n",
    "\n",
    "outliers_counter = len(data[data['co2'] >= 7000])\n",
    "outliers_counter\n",
    "if outliers_counter >= 100:\n",
    "    print(\"Maintenance needed\")\n",
    "\n",
    "accuracy = 100*list(data['anomaly_score']).count(-1)/(outliers_counter)\n",
    "print(\"Accuracy of the model:\", accuracy)"
   ]
  },
  {
   "cell_type": "code",
   "execution_count": null,
   "id": "13283a28",
   "metadata": {},
   "outputs": [],
   "source": [
    "data[data['anomaly_score']==-1].head(3606)"
   ]
  },
  {
   "cell_type": "markdown",
   "id": "ce98e096",
   "metadata": {},
   "source": [
    "# Duval Triangle - Fault-type Prediction\n",
    "\n",
    "## It is possible to detect faults using Duval Triangle coordinates. There are two ways to do so:\n",
    "\n",
    "### 1. Get the actual Duval coordinates for a datapoint and use the Duval triangle to plot the coordinates and determine the fault. This is being done below.\n",
    "### 2. Do the above, then repeat for all datapoints. Then feed this as training data into a multiclass ML model, such as k-NN. Create a test set similarly and the model should be able to predict the fault."
   ]
  },
  {
   "cell_type": "code",
   "execution_count": null,
   "id": "c42ce1e0",
   "metadata": {},
   "outputs": [],
   "source": [
    "perc_1 = (100*data['c2h2']) / (data['c2h2']+data['c2h4']+data['ch4']) # x = C2H2\n",
    "perc_2 = (100*data['c2h4']) / (data['c2h2']+data['c2h4']+data['ch4']) # y = C2H4\n",
    "perc_3 = (100*data['ch4']) / (data['c2h2']+data['c2h4']+data['ch4']) # z = CH4\n",
    "\n",
    "perc_1 = perc_1.dropna()\n",
    "perc_2 = perc_2.dropna()\n",
    "perc_3 = perc_3.dropna()\n",
    "\n",
    "data['perc_1'] = perc_1\n",
    "data['perc_2'] = perc_2\n",
    "data['perc_3'] = perc_3\n",
    "\n",
    "data['duval'] = data.apply(lambda x: list([x['perc_2'],\n",
    "                                        x['perc_3']]),axis=1)\n",
    "data.head(10)\n",
    "\n",
    "duval_array = data['duval'].to_numpy()"
   ]
  },
  {
   "cell_type": "code",
   "execution_count": null,
   "id": "4de41eb8",
   "metadata": {},
   "outputs": [],
   "source": [
    "# Reference for the below plot: https://www.pospeev.com/post/plotting-the-duval-triangle\n",
    "\n",
    "import numpy as np\n",
    "import matplotlib.pyplot as plt\n",
    "\n",
    "# Define the transformation matrix\n",
    "#\n",
    "A = np.array([[5, 2.5, 50], [0, 5 * np.sqrt(3)/2, 50], [0, 0, 1]])\n",
    "\n",
    "\n",
    "# Define a set of points for Duval triangle regions\n",
    "#\n",
    "p = np.array([\n",
    "    [0, 0, 1],          #0-p1\n",
    "    [0, 100, 1],        #1-p2\n",
    "    [100, 0, 1],        #2-p3\n",
    "    [0, 87, 1],         #3-p4\n",
    "    [0, 96, 1],         #4-p5\n",
    "    [0, 98, 1],         #5-p6\n",
    "    [2, 98, 1],         #6-p7\n",
    "    [23, 0, 1],         #7-p8\n",
    "    [23, 64, 1],        #8-p9\n",
    "    [20, 76, 1],        #9-p10\n",
    "    [20, 80, 1],        #10-p11\n",
    "    [40, 31, 1],        #11-p12\n",
    "    [40, 47, 1],        #12-p13\n",
    "    [50, 35, 1],        #13-p14\n",
    "    [50, 46, 1],        #14-p15\n",
    "    [50, 50, 1],        #15-p16\n",
    "    [71, 0, 1],         #16-p17\n",
    "    [85, 0, 1]])        #17-p18\n",
    "\n",
    "#\n",
    "# Apply the coordinates transformation to all points\n",
    "#\n",
    "v = p @ np.transpose(A)\n",
    "\n",
    "#\n",
    "# Set one more sample point\n",
    "#\n",
    "\n",
    "# Index of duval coordinates:\n",
    "n = 2\n",
    "\n",
    "# The below sample points are the points we want to plot.\n",
    "# c2h4 (perc_2), ch4 (perc_3), c2h2=1 always\n",
    "sample_point = np.array([perc_2[n], perc_3[n], 1]) @ np.transpose(A)\n",
    "sample_point2 = np.array([4.44, 95.37, 1]) @ np.transpose(A)\n",
    "print(sample_point)\n",
    "\n",
    "#\n",
    "# Define each of the regions by the coordinates of its angle points\n",
    "#\n",
    "region_PD = v[[5, 1, 6], :]\n",
    "region_T1 = v[[4, 5, 6, 10, 9], :]\n",
    "region_T2 = v[[9, 10, 15, 14], :]\n",
    "region_T3 = v[[13, 15, 2, 17], :]\n",
    "region_D1 = v[[0, 3, 8, 7], :]\n",
    "region_D2 = v[[7, 8, 12, 11, 16], :]\n",
    "region_DT = v[[3, 4, 14, 13, 17, 16, 11, 12], :]\n",
    "\n",
    "#\n",
    "# Plot the results\n",
    "#\n",
    "fig, ax1 = plt.subplots()\n",
    "ax1.fill(region_PD[:, 0], region_PD[:, 1], '#2e962d')\n",
    "ax1.fill(region_T1[:, 0], region_T1[:, 1], '#bebe12')\n",
    "ax1.fill(region_T2[:, 0], region_T2[:, 1], '#ff642b')\n",
    "ax1.fill(region_T3[:, 0], region_T3[:, 1], '#b46414')\n",
    "ax1.fill(region_D1[:, 0], region_D1[:, 1], '#10b4a7')\n",
    "ax1.fill(region_D2[:, 0], region_D2[:, 1], '#121eb4')\n",
    "ax1.fill(region_DT[:, 0], region_DT[:, 1], '#f217d0')\n",
    "ax1.scatter(sample_point[0], sample_point[1], marker='x', c='r', s=100, zorder=2)\n",
    "ax1.scatter(sample_point2[0], sample_point2[1], marker='x', c='r', s=100, zorder=2)\n",
    "ax1.grid(linestyle='--', alpha=0.4, axis='both')\n",
    "\n",
    "# Labeling the different regions\n",
    "ax1.text(280,125,'D2', color='w')\n",
    "ax1.text(150,125,'D1', color='w')\n",
    "ax1.text(380,125,'DT', color='w')\n",
    "ax1.text(450,125,'T3', color='w')\n",
    "ax1.text(400,325,'T2', color='brown')\n",
    "ax1.text(325,435,'T1', color='brown')\n",
    "ax1.text(290,500,'PD', color='brown')\n",
    "\n",
    "#\n",
    "# Also place axes captions\n",
    "#\n",
    "label1 = np.array([45, -5, 1]) @ np.transpose(A)\n",
    "ax1.text(label1[0], label1[1], '%C2H2')\n",
    "label11 = np.array([95, -5, 1]) @ np.transpose(A)\n",
    "ax1.text(label11[0], label11[1], '0')\n",
    "label12 = np.array([5, -5, 1]) @ np.transpose(A)\n",
    "ax1.text(label12[0], label12[1], '100')\n",
    "label2 = np.array([-10, 55, 1]) @ np.transpose(A)\n",
    "ax1.text(label2[0], label2[1], '%CH4')\n",
    "label21 = np.array([-7, 5, 1]) @ np.transpose(A)\n",
    "ax1.text(label21[0], label21[1], '0')\n",
    "label22 = np.array([-7, 95, 1]) @ np.transpose(A)\n",
    "ax1.text(label22[0], label22[1], '100')\n",
    "label3 = np.array([45, 55, 1]) @ np.transpose(A)\n",
    "ax1.text(label3[0], label3[1], '%C2H4')\n",
    "label31 = np.array([5, 95, 1]) @ np.transpose(A)\n",
    "ax1.text(label31[0], label31[1], '0')\n",
    "label22 = np.array([95, 5, 1]) @ np.transpose(A)\n",
    "ax1.text(label22[0], label22[1], '100')\n",
    "\n",
    "#\n",
    "# Show the final plot\n",
    "#\n",
    "ax1.set_xlim(0, 600)\n",
    "ax1.set_ylim(0, 550)\n",
    "plt.show()"
   ]
  }
 ],
 "metadata": {
  "kernelspec": {
   "display_name": "Python 3",
   "language": "python",
   "name": "python3"
  },
  "language_info": {
   "codemirror_mode": {
    "name": "ipython",
    "version": 3
   },
   "file_extension": ".py",
   "mimetype": "text/x-python",
   "name": "python",
   "nbconvert_exporter": "python",
   "pygments_lexer": "ipython3",
   "version": "3.8.8"
  }
 },
 "nbformat": 4,
 "nbformat_minor": 5
}
